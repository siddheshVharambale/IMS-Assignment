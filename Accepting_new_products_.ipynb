{
  "nbformat": 4,
  "nbformat_minor": 0,
  "metadata": {
    "colab": {
      "name": "Accepting_new_products .ipynb",
      "provenance": [],
      "collapsed_sections": []
    },
    "kernelspec": {
      "name": "python3",
      "display_name": "Python 3"
    },
    "language_info": {
      "name": "python"
    }
  },
  "cells": [
    {
      "cell_type": "code",
      "metadata": {
        "id": "GNY-bU9Z4rYI"
      },
      "source": [
        "import json"
      ],
      "execution_count": null,
      "outputs": []
    },
    {
      "cell_type": "code",
      "metadata": {
        "id": "iE3SEbfkKigV"
      },
      "source": [
        "fd = open('record.json','r')\n",
        "txt=fd.read()\n",
        "fd.close()\n",
        "\n",
        "\n",
        "record=json.loads(txt)"
      ],
      "execution_count": null,
      "outputs": []
    },
    {
      "cell_type": "code",
      "metadata": {
        "colab": {
          "base_uri": "https://localhost:8080/"
        },
        "id": "9w-CGCEDOzSa",
        "outputId": "d1221e23-b21a-457a-85cc-2c6393317c00"
      },
      "source": [
        "record"
      ],
      "execution_count": null,
      "outputs": [
        {
          "output_type": "execute_result",
          "data": {
            "text/plain": [
              "{'1001': {'cost_pri': 6, 'mrp': 10, 'name': 'kurkure', 'quant': 100},\n",
              " '1002': {'cost_pri': 5, 'mrp': 10, 'name': 'Lays', 'quant': 50},\n",
              " '1003': {'cost_pri': 3, 'mrp': 5, 'name': 'Rings', 'quant': 80},\n",
              " '1004': {'cost_pri': 7, 'mrp': 10, 'name': 'Soya sticks', 'quant': 90},\n",
              " '1005': {'cost_pri': 14, 'mrp': 20, 'name': 'Aloo shev', 'quant': 50},\n",
              " '1006': {'cost_pri': 16, 'mrp': 20, 'name': 'Chivda', 'quant': 10},\n",
              " '1007': {'cost_pri': 8, 'mrp': 10, 'name': '5 Star', 'quant': 150},\n",
              " '1008': {'cost_pri': 3, 'mrp': 5, 'name': 'Munch', 'quant': 110},\n",
              " '1009': {'cost_pri': 4, 'mrp': 5, 'name': 'Perk', 'quant': 75},\n",
              " '1010': {'cost_pri': 55, 'mrp': 70, 'name': 'Silk', 'quant': 55},\n",
              " '1011': {'cost_pri': 6, 'mrp': 10, 'name': 'Milky bar', 'quant': 100},\n",
              " '1012': {'cost_pri': 12, 'mrp': 20, 'name': 'Dettol soap', 'quant': 65},\n",
              " '1013': {'cost_pri': 6, 'mrp': 10, 'name': 'Lifebuoy', 'quant': 100},\n",
              " '1014': {'cost_pri': 50, 'mrp': 60, 'name': 'Wheel powder', 'quant': 30},\n",
              " '1015': {'cost_pri': 40, 'mrp': 45, 'name': 'Butter', 'quant': 35},\n",
              " '1016': {'cost_pri': 10, 'mrp': 15, 'name': 'Cheese', 'quant': 40},\n",
              " '1017': {'cost_pri': 35, 'mrp': 40, 'name': 'Hakka Noddles', 'quant': 20},\n",
              " '1018': {'cost_pri': 30, 'mrp': 35, 'name': 'Oregano', 'quant': 25},\n",
              " '1019': {'cost_pri': 35, 'mrp': 40, 'name': 'Mayonise', 'quant': 45},\n",
              " '1020': {'cost_pri': 4, 'mrp': 10, 'name': 'Yeppie', 'quant': 70},\n",
              " '1021': {'cost_pri': 5, 'mrp': 12, 'name': 'Maggie', 'quant': 90},\n",
              " '1022': {'cost_pri': 25, 'mrp': 30, 'name': 'Pasta', 'quant': 70},\n",
              " '1023': {'cost_pri': 10, 'mrp': 20, 'name': 'Salt', 'quant': 80},\n",
              " '1024': {'cost_pri': 4, 'mrp': 10, 'name': 'Trurmeric powder', 'quant': 40},\n",
              " '1025': {'cost_pri': 6, 'mrp': 10, 'name': 'Chilli powder', 'quant': 70},\n",
              " '1026': {'cost_pri': 6, 'mrp': 10, 'name': 'Mix veg Soup', 'quant': 50},\n",
              " '1027': {'cost_pri': 6, 'mrp': 10, 'name': 'Corn Soup', 'quant': 40},\n",
              " '1028': {'cost_pri': 35,\n",
              "  'mrp': 40,\n",
              "  'name': 'Green Chilli sause',\n",
              "  'quant': 25},\n",
              " '1029': {'cost_pri': 35, 'mrp': 40, 'name': 'Red Chilli sause', 'quant': 30},\n",
              " '1030': {'cost_pri': 60, 'mrp': 70, 'name': 'Ketchup', 'quant': 15}}"
            ]
          },
          "metadata": {},
          "execution_count": 3
        }
      ]
    },
    {
      "cell_type": "code",
      "metadata": {
        "colab": {
          "base_uri": "https://localhost:8080/"
        },
        "id": "rGBLtCPVRPvh",
        "outputId": "d545ed24-11e8-419e-d41e-b7f1a6f71695"
      },
      "source": [
        "prod_id = int(input(\"Enter product id : \"))\n",
        "name = input(\"Enter name : \")\n",
        "cost_pri = int(input(\"Enter cost of product id : \"))\n",
        "mrp = int(input(\"Enter mrp  product id : \"))\n",
        "quant=int(input(\"Enter quantity of products : \"))\n",
        "\n",
        "record[prod_id] = {'name': name, 'cost_pri':cost_pri , 'mrp': mrp,'quant':quant}\n",
        "\n",
        "js = json.dumps(record)\n",
        "\n",
        "fd = open(\"record.json\",'w')\n",
        "fd.write(js)\n",
        "fd.close()\n",
        "\n"
      ],
      "execution_count": null,
      "outputs": [
        {
          "name": "stdout",
          "output_type": "stream",
          "text": [
            "Enter product id : 1031\n",
            "Enter name : choco cake\n",
            "Enter cost of product id : 7\n",
            "Enter mrp  product id : 10\n",
            "Enter quantity of products : 40\n"
          ]
        }
      ]
    },
    {
      "cell_type": "code",
      "metadata": {
        "colab": {
          "base_uri": "https://localhost:8080/"
        },
        "id": "n5JYDvje6G6j",
        "outputId": "25446265-0cf8-4af4-b927-ebdb4357b4b6"
      },
      "source": [
        "del_pid = int(input(\"Enter the product's id which is to be deleted: \"))\n",
        "\n",
        "del_pid = str(del_pid)"
      ],
      "execution_count": 11,
      "outputs": [
        {
          "name": "stdout",
          "output_type": "stream",
          "text": [
            "Enter the product's id which is to be deleted: 103\n"
          ]
        }
      ]
    },
    {
      "cell_type": "code",
      "metadata": {
        "id": "KegoC7FQ6fcH"
      },
      "source": [
        "del record[del_pid]"
      ],
      "execution_count": null,
      "outputs": []
    }
  ]
}
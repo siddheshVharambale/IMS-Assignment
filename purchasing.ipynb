{
  "nbformat": 4,
  "nbformat_minor": 0,
  "metadata": {
    "colab": {
      "name": "purchasing.ipynb",
      "provenance": [],
      "collapsed_sections": []
    },
    "kernelspec": {
      "name": "python3",
      "display_name": "Python 3"
    },
    "language_info": {
      "name": "python"
    }
  },
  "cells": [
    {
      "cell_type": "code",
      "metadata": {
        "id": "aLoqe3VarvRZ"
      },
      "source": [
        "import json\n",
        "\n",
        "fd = open(\"record.json\",'r')\n",
        "txt = fd.read()\n",
        "fd.close()\n",
        "\n",
        "records = json.loads(txt)"
      ],
      "execution_count": 6,
      "outputs": []
    },
    {
      "cell_type": "code",
      "metadata": {
        "colab": {
          "base_uri": "https://localhost:8080/"
        },
        "id": "_-aEozNFsCAc",
        "outputId": "791ac3a4-58a9-4c2a-8963-932cb31d6382"
      },
      "source": [
        "records\n",
        "\n"
      ],
      "execution_count": 7,
      "outputs": [
        {
          "output_type": "execute_result",
          "data": {
            "text/plain": [
              "{'1001': {'cost_pri': 6, 'mrp': 10, 'name': 'kurkure', 'quant': 100},\n",
              " '1002': {'cost_pri': 5, 'mrp': 10, 'name': 'Lays', 'quant': 50},\n",
              " '1003': {'cost_pri': 3, 'mrp': 5, 'name': 'Rings', 'quant': 80},\n",
              " '1004': {'cost_pri': 7, 'mrp': 10, 'name': 'Soya sticks', 'quant': 90},\n",
              " '1005': {'cost_pri': 14, 'mrp': 20, 'name': 'Aloo shev', 'quant': 50},\n",
              " '1006': {'cost_pri': 16, 'mrp': 20, 'name': 'Chivda', 'quant': 10},\n",
              " '1007': {'cost_pri': 8, 'mrp': 10, 'name': '5 Star', 'quant': 150},\n",
              " '1008': {'cost_pri': 3, 'mrp': 5, 'name': 'Munch', 'quant': 110},\n",
              " '1009': {'cost_pri': 4, 'mrp': 5, 'name': 'Perk', 'quant': 75},\n",
              " '1010': {'cost_pri': 55, 'mrp': 70, 'name': 'Silk', 'quant': 55},\n",
              " '1011': {'cost_pri': 6, 'mrp': 10, 'name': 'Milky bar', 'quant': 100},\n",
              " '1012': {'cost_pri': 12, 'mrp': 20, 'name': 'Dettol soap', 'quant': 65},\n",
              " '1013': {'cost_pri': 6, 'mrp': 10, 'name': 'Lifebuoy', 'quant': 100},\n",
              " '1014': {'cost_pri': 50, 'mrp': 60, 'name': 'Wheel powder', 'quant': 30},\n",
              " '1015': {'cost_pri': 40, 'mrp': 45, 'name': 'Butter', 'quant': 35},\n",
              " '1016': {'cost_pri': 10, 'mrp': 15, 'name': 'Cheese', 'quant': 40},\n",
              " '1017': {'cost_pri': 35, 'mrp': 40, 'name': 'Hakka Noddles', 'quant': 20},\n",
              " '1018': {'cost_pri': 30, 'mrp': 35, 'name': 'Oregano', 'quant': 25},\n",
              " '1019': {'cost_pri': 35, 'mrp': 40, 'name': 'Mayonise', 'quant': 45},\n",
              " '1020': {'cost_pri': 4, 'mrp': 10, 'name': 'Yeppie', 'quant': 70},\n",
              " '1021': {'cost_pri': 5, 'mrp': 12, 'name': 'Maggie', 'quant': 90},\n",
              " '1022': {'cost_pri': 25, 'mrp': 30, 'name': 'Pasta', 'quant': 70},\n",
              " '1023': {'cost_pri': 10, 'mrp': 20, 'name': 'Salt', 'quant': 80},\n",
              " '1024': {'cost_pri': 4, 'mrp': 10, 'name': 'Trurmeric powder', 'quant': 40},\n",
              " '1025': {'cost_pri': 6, 'mrp': 10, 'name': 'Chilli powder', 'quant': 70},\n",
              " '1026': {'cost_pri': 6, 'mrp': 10, 'name': 'Mix veg Soup', 'quant': 50},\n",
              " '1027': {'cost_pri': 6, 'mrp': 10, 'name': 'Corn Soup', 'quant': 40},\n",
              " '1028': {'cost_pri': 35,\n",
              "  'mrp': 40,\n",
              "  'name': 'Green Chilli sause',\n",
              "  'quant': 25},\n",
              " '1029': {'cost_pri': 35, 'mrp': 40, 'name': 'Red Chilli sause', 'quant': 30},\n",
              " '1030': {'cost_pri': 60, 'mrp': 70, 'name': 'Ketchup', 'quant': 15}}"
            ]
          },
          "metadata": {},
          "execution_count": 7
        }
      ]
    },
    {
      "cell_type": "code",
      "metadata": {
        "colab": {
          "base_uri": "https://localhost:8080/"
        },
        "id": "EemHd35nsGMj",
        "outputId": "5097b6d9-b627-4bf3-f5f9-8d449fcea190"
      },
      "source": [
        "ui_prod  = str(input(\"Enter the product_Id: \"))\n",
        "ui_quant = int(input(\"Enter the quantity: \"))\n",
        "\n",
        "print(\"**********************************************\")\n",
        "print(\"Product: \", records[ui_prod]['name'])\n",
        "print(\"Price: \", records[ui_prod]['mrp'])\n",
        "print(\"**********************************************\")\n",
        "print(\"Billing Amount: \", records[ui_prod]['mrp'] * ui_quant)\n",
        "\n",
        "records[ui_prod]['quant'] = records[ui_prod]['quant'] - ui_quant"
      ],
      "execution_count": 12,
      "outputs": [
        {
          "output_type": "stream",
          "name": "stdout",
          "text": [
            "Enter the product_Id: 1001\n",
            "Enter the quantity: 5\n",
            "**********************************************\n",
            "Product:  kurkure\n",
            "Price:  10\n",
            "**********************************************\n",
            "Billing Amount:  50\n"
          ]
        }
      ]
    },
    {
      "cell_type": "code",
      "metadata": {
        "colab": {
          "base_uri": "https://localhost:8080/"
        },
        "id": "bVhCyRZDtaSb",
        "outputId": "ba339a60-2c50-4462-b543-aeadebb843c7"
      },
      "source": [
        "js = json.dumps(records)\n",
        "\n",
        "fd = open(\"record.json\",'w')\n",
        "fd.write(js)\n",
        "fd.close()\n",
        "\n",
        "records"
      ],
      "execution_count": 13,
      "outputs": [
        {
          "output_type": "execute_result",
          "data": {
            "text/plain": [
              "{'1001': {'cost_pri': 6, 'mrp': 10, 'name': 'kurkure', 'quant': 95},\n",
              " '1002': {'cost_pri': 5, 'mrp': 10, 'name': 'Lays', 'quant': 50},\n",
              " '1003': {'cost_pri': 3, 'mrp': 5, 'name': 'Rings', 'quant': 80},\n",
              " '1004': {'cost_pri': 7, 'mrp': 10, 'name': 'Soya sticks', 'quant': 90},\n",
              " '1005': {'cost_pri': 14, 'mrp': 20, 'name': 'Aloo shev', 'quant': 50},\n",
              " '1006': {'cost_pri': 16, 'mrp': 20, 'name': 'Chivda', 'quant': 10},\n",
              " '1007': {'cost_pri': 8, 'mrp': 10, 'name': '5 Star', 'quant': 150},\n",
              " '1008': {'cost_pri': 3, 'mrp': 5, 'name': 'Munch', 'quant': 110},\n",
              " '1009': {'cost_pri': 4, 'mrp': 5, 'name': 'Perk', 'quant': 75},\n",
              " '1010': {'cost_pri': 55, 'mrp': 70, 'name': 'Silk', 'quant': 55},\n",
              " '1011': {'cost_pri': 6, 'mrp': 10, 'name': 'Milky bar', 'quant': 100},\n",
              " '1012': {'cost_pri': 12, 'mrp': 20, 'name': 'Dettol soap', 'quant': 65},\n",
              " '1013': {'cost_pri': 6, 'mrp': 10, 'name': 'Lifebuoy', 'quant': 100},\n",
              " '1014': {'cost_pri': 50, 'mrp': 60, 'name': 'Wheel powder', 'quant': 30},\n",
              " '1015': {'cost_pri': 40, 'mrp': 45, 'name': 'Butter', 'quant': 35},\n",
              " '1016': {'cost_pri': 10, 'mrp': 15, 'name': 'Cheese', 'quant': 40},\n",
              " '1017': {'cost_pri': 35, 'mrp': 40, 'name': 'Hakka Noddles', 'quant': 20},\n",
              " '1018': {'cost_pri': 30, 'mrp': 35, 'name': 'Oregano', 'quant': 25},\n",
              " '1019': {'cost_pri': 35, 'mrp': 40, 'name': 'Mayonise', 'quant': 45},\n",
              " '1020': {'cost_pri': 4, 'mrp': 10, 'name': 'Yeppie', 'quant': 70},\n",
              " '1021': {'cost_pri': 5, 'mrp': 12, 'name': 'Maggie', 'quant': 90},\n",
              " '1022': {'cost_pri': 25, 'mrp': 30, 'name': 'Pasta', 'quant': 70},\n",
              " '1023': {'cost_pri': 10, 'mrp': 20, 'name': 'Salt', 'quant': 80},\n",
              " '1024': {'cost_pri': 4, 'mrp': 10, 'name': 'Trurmeric powder', 'quant': 40},\n",
              " '1025': {'cost_pri': 6, 'mrp': 10, 'name': 'Chilli powder', 'quant': 70},\n",
              " '1026': {'cost_pri': 6, 'mrp': 10, 'name': 'Mix veg Soup', 'quant': 50},\n",
              " '1027': {'cost_pri': 6, 'mrp': 10, 'name': 'Corn Soup', 'quant': 40},\n",
              " '1028': {'cost_pri': 35,\n",
              "  'mrp': 40,\n",
              "  'name': 'Green Chilli sause',\n",
              "  'quant': 25},\n",
              " '1029': {'cost_pri': 35, 'mrp': 40, 'name': 'Red Chilli sause', 'quant': 30},\n",
              " '1030': {'cost_pri': 60, 'mrp': 70, 'name': 'Ketchup', 'quant': 11}}"
            ]
          },
          "metadata": {},
          "execution_count": 13
        }
      ]
    },
    {
      "cell_type": "code",
      "metadata": {
        "id": "WqA9Go83s3ir"
      },
      "source": [
        "data={'prod' : ui_prod, 'quant' : ui_quant, 'amount': records[ui_prod]['mrp'] * ui_quant}"
      ],
      "execution_count": 29,
      "outputs": []
    },
    {
      "cell_type": "code",
      "metadata": {
        "id": "7eYlysHyhhgU"
      },
      "source": [
        "sales[(len(sales)+1)]=data"
      ],
      "execution_count": 30,
      "outputs": []
    },
    {
      "cell_type": "code",
      "metadata": {
        "colab": {
          "base_uri": "https://localhost:8080/"
        },
        "id": "4oet4XxftogF",
        "outputId": "57cbcc2e-73db-4469-865f-f208bfffa4c6"
      },
      "source": [
        "sales"
      ],
      "execution_count": 31,
      "outputs": [
        {
          "output_type": "execute_result",
          "data": {
            "text/plain": [
              "{1: {'amount': 50, 'prod': '1001', 'quant': 5},\n",
              " 2: {'amount': 50, 'prod': '1001', 'quant': 5},\n",
              " 3: {'amount': 50, 'prod': '1001', 'quant': 5},\n",
              " 4: {'amount': 50, 'prod': '1001', 'quant': 5}}"
            ]
          },
          "metadata": {},
          "execution_count": 31
        }
      ]
    },
    {
      "cell_type": "code",
      "metadata": {
        "id": "FC9QsTKXuJEs"
      },
      "source": [
        "sale = json.dumps(sales)\n",
        "\n",
        "with open(\"sale.json\",\"a\") as outfile:\n",
        "     outfile.write(sale)"
      ],
      "execution_count": 34,
      "outputs": []
    },
    {
      "cell_type": "code",
      "metadata": {
        "id": "Ci8LEcrbumPd"
      },
      "source": [
        ""
      ],
      "execution_count": null,
      "outputs": []
    }
  ]
}